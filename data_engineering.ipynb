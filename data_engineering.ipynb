{
  "nbformat": 4,
  "nbformat_minor": 0,
  "metadata": {
    "colab": {
      "provenance": [],
      "authorship_tag": "ABX9TyN/+97w9Opip/g6cPjg0OKi",
      "include_colab_link": true
    },
    "kernelspec": {
      "name": "python3",
      "display_name": "Python 3"
    },
    "language_info": {
      "name": "python"
    }
  },
  "cells": [
    {
      "cell_type": "markdown",
      "metadata": {
        "id": "view-in-github",
        "colab_type": "text"
      },
      "source": [
        "<a href=\"https://colab.research.google.com/github/BognarAndras/corvinus_ds_ws/blob/main/data_engineering.ipynb\" target=\"_parent\"><img src=\"https://colab.research.google.com/assets/colab-badge.svg\" alt=\"Open In Colab\"/></a>"
      ]
    },
    {
      "cell_type": "code",
      "source": [],
      "metadata": {
        "id": "vDqaK8-Le7ti"
      },
      "execution_count": null,
      "outputs": []
    },
    {
      "cell_type": "code",
      "source": [],
      "metadata": {
        "id": "2MkrzXsQe7h1"
      },
      "execution_count": null,
      "outputs": []
    },
    {
      "cell_type": "code",
      "source": [],
      "metadata": {
        "id": "WNQIWdAJe7QK"
      },
      "execution_count": null,
      "outputs": []
    },
    {
      "cell_type": "code",
      "source": [],
      "metadata": {
        "id": "T1-ncwLke9B0"
      },
      "execution_count": null,
      "outputs": []
    },
    {
      "cell_type": "markdown",
      "source": [
        "### Predictive Analysis- Ingatlan.com adat"
      ],
      "metadata": {
        "id": "nu70qgvMe9k_"
      }
    },
    {
      "cell_type": "markdown",
      "source": [
        "### Single case of webscrape"
      ],
      "metadata": {
        "id": "yXADXLdlfDBH"
      }
    },
    {
      "cell_type": "code",
      "source": [
        "import requests\n",
        "\n",
        "cookies = {\n",
        "    'optimizelySegments': '%7B%22653870010%22%3A%22gc%22%2C%22654380236%22%3A%22direct%22%2C%22656860019%22%3A%22false%22%7D',\n",
        "    'optimizelyEndUserId': 'oeu1439225375810r0.12509430727023318',\n",
        "    'optimizelyBuckets': '%7B%7D',\n",
        "    'bbid': '2539656256515775',\n",
        "    'wb-p-SERVER': 'wwwb-app213',\n",
        "    'donation-identifier': 'b6e48a16f7b59f1ca2a401bc0914c351',\n",
        "    'wb-cdx-ui-SERVER': 'wwwb-app205',\n",
        "}\n",
        "\n",
        "headers = {\n",
        "    'accept': 'text/html,application/xhtml+xml,application/xml;q=0.9,image/avif,image/webp,image/apng,*/*;q=0.8',\n",
        "    'accept-language': 'en-US,en;q=0.5',\n",
        "    'cache-control': 'max-age=0',\n",
        "    'priority': 'u=0, i',\n",
        "    'sec-ch-ua': '\"Chromium\";v=\"136\", \"Brave\";v=\"136\", \"Not.A/Brand\";v=\"99\"',\n",
        "    'sec-ch-ua-mobile': '?0',\n",
        "    'sec-ch-ua-platform': '\"Linux\"',\n",
        "    'sec-fetch-dest': 'document',\n",
        "    'sec-fetch-mode': 'navigate',\n",
        "    'sec-fetch-site': 'none',\n",
        "    'sec-fetch-user': '?1',\n",
        "    'sec-gpc': '1',\n",
        "    'upgrade-insecure-requests': '1',\n",
        "    'user-agent': 'Mozilla/5.0 (X11; Linux x86_64) AppleWebKit/537.36 (KHTML, like Gecko) Chrome/136.0.0.0 Safari/537.36',\n",
        "    # 'cookie': 'optimizelySegments=%7B%22653870010%22%3A%22gc%22%2C%22654380236%22%3A%22direct%22%2C%22656860019%22%3A%22false%22%7D; optimizelyEndUserId=oeu1439225375810r0.12509430727023318; optimizelyBuckets=%7B%7D; bbid=2539656256515775; wb-p-SERVER=wwwb-app213; donation-identifier=b6e48a16f7b59f1ca2a401bc0914c351; wb-cdx-ui-SERVER=wwwb-app205',\n",
        "}\n",
        "\n",
        "response = requests.get(\n",
        "    'https://web.archive.org/web/20150810164931/http://ingatlan.com/budapest/kiado+lakas',\n",
        "    cookies=cookies,\n",
        "    headers=headers,\n",
        ")"
      ],
      "metadata": {
        "id": "K3BfZTVgZFXS"
      },
      "execution_count": 1,
      "outputs": []
    },
    {
      "cell_type": "code",
      "source": [
        "'property-name' in response.text"
      ],
      "metadata": {
        "colab": {
          "base_uri": "https://localhost:8080/"
        },
        "collapsed": true,
        "id": "MgSyWLvkKF9N",
        "outputId": "0bdaf6db-1012-43b9-87ad-e29058eca552"
      },
      "execution_count": 2,
      "outputs": [
        {
          "output_type": "execute_result",
          "data": {
            "text/plain": [
              "True"
            ]
          },
          "metadata": {},
          "execution_count": 2
        }
      ]
    },
    {
      "cell_type": "code",
      "source": [
        "from bs4 import BeautifulSoup\n",
        "import pandas as pd\n",
        "import re\n",
        "\n",
        "html = response.text\n",
        "\n",
        "soup = BeautifulSoup(html, \"html.parser\")\n",
        "\n",
        "rows = []\n",
        "\n",
        "for tr in soup.find_all(\"tr\", class_=\"list-row\"):\n",
        "    try:\n",
        "        centered_blocks = tr.find_all(\"td\", class_=\"centered\")\n",
        "\n",
        "        # --- Price ---\n",
        "        price_block = centered_blocks[0]\n",
        "        price_text = price_block.get_text(\" \", strip=True)\n",
        "\n",
        "        # Keep only part before 'Ft/hó' (HUF)\n",
        "        if \"Ft\" in price_text:\n",
        "            huf_part = price_text.split(\"Ft\")[0]\n",
        "        else:\n",
        "            huf_part = price_text  # fallback\n",
        "\n",
        "        # Extract digits from that section only\n",
        "        digits = re.findall(r'\\d+', huf_part)\n",
        "        price = int(\"\".join(digits)) if digits else None\n",
        "\n",
        "        # --- Size ---\n",
        "        size_span = centered_blocks[1].find(\"span\", class_=\"numbers-highlight\")\n",
        "        size = int(re.findall(r'\\d+', size_span.text)[0]) if size_span else None\n",
        "\n",
        "        # --- Rooms ---\n",
        "        rooms_span = centered_blocks[2].find(\"span\", class_=\"numbers-highlight\")\n",
        "        rooms = int(re.findall(r'\\d+', rooms_span.text)[0]) if rooms_span else None\n",
        "\n",
        "        # --- Property Name (robust) ---\n",
        "        address_td = tr.find(\"td\", class_=\"address\")\n",
        "        if address_td:\n",
        "            # get all text inside the <a> but ignore <p> content\n",
        "            a_tag = address_td.find(\"a\")\n",
        "            if a_tag:\n",
        "                # remove the <p> tag from the a_tag\n",
        "                p_tag = a_tag.find(\"p\", class_=\"property-name\")\n",
        "                if p_tag:\n",
        "                    p_tag.extract()\n",
        "                # get remaining text and clean it\n",
        "                property_name = \" \".join(a_tag.stripped_strings)\n",
        "            else:\n",
        "                property_name = \"\"\n",
        "        else:\n",
        "            property_name = \"\"\n",
        "\n",
        "\n",
        "        # --- Feature detection ---\n",
        "        from_owner = int(\"Tulajdonostól\" in property_name)\n",
        "        great_view = int(\"Panorámás\" in property_name)\n",
        "\n",
        "        # Clean them out of property_name text\n",
        "        property_name = (property_name\n",
        "                         .replace(\"Tulajdonostól!\", \"\")\n",
        "                         .replace(\"Panorámás\", \"\")\n",
        "                         .strip())\n",
        "\n",
        "        # --- Split into town and address ---\n",
        "        parts = [p.strip() for p in property_name.split(\",\", 1)]\n",
        "        if len(parts) == 2:\n",
        "            town, address = parts\n",
        "        else:\n",
        "            town = parts[0] if parts else \"\"\n",
        "            address = \"\"\n",
        "\n",
        "        rows.append({\n",
        "            \"price\": price,\n",
        "            \"size\": size,\n",
        "            \"rooms\": rooms,\n",
        "            \"from_owner\": from_owner,\n",
        "            \"great_view\": great_view,\n",
        "            \"town\": town,\n",
        "            \"address\": address\n",
        "        })\n",
        "\n",
        "    except Exception as e:\n",
        "        print(f\"Skipping row due to error: {e}\")\n",
        "\n",
        "df = pd.DataFrame(rows)\n",
        "print(df)"
      ],
      "metadata": {
        "colab": {
          "base_uri": "https://localhost:8080/"
        },
        "id": "z09BaWFfK6yP",
        "outputId": "32fe608c-cba8-44df-fc6f-97cc3946da8e"
      },
      "execution_count": 10,
      "outputs": [
        {
          "output_type": "stream",
          "name": "stdout",
          "text": [
            "     price  size  rooms  from_owner  great_view      town  \\\n",
            "0   115000    37      1           0           0  Budapest   \n",
            "1   124180    35      1           0           0  Budapest   \n",
            "2   145000    50      2           1           0  Budapest   \n",
            "3   130000    40      1           1           0  Budapest   \n",
            "4   150000    78      3           1           0  Budapest   \n",
            "5   180000    40      2           1           0  Budapest   \n",
            "6   803686   155      4           0           1  Budapest   \n",
            "7    75000    35      1           0           0  Budapest   \n",
            "8   110000    59      2           0           0  Budapest   \n",
            "9   100000    40      1           0           0  Budapest   \n",
            "10  260000    79      3           0           0  Budapest   \n",
            "11  169900    62      2           0           0  Budapest   \n",
            "12  160000    80      2           0           0  Budapest   \n",
            "13  185000    70      1           0           0  Budapest   \n",
            "14  230000    78      2           0           0  Budapest   \n",
            "15  130000    50      2           0           0  Budapest   \n",
            "16  115000    40      1           0           0  Budapest   \n",
            "17  120000    40      1           0           0  Budapest   \n",
            "18  189000    57      2           0           0  Budapest   \n",
            "19  220000    55      1           0           0  Budapest   \n",
            "\n",
            "                                              address  \n",
            "0                              5. kerület, (Belváros)  \n",
            "1                              5. kerület, (Belváros)  \n",
            "2   8. kerület, (Józsefváros – Palotanegyed), Józs...  \n",
            "3        13. kerület, (Angyalföld), Petneházy utca 38  \n",
            "4      9. kerület, (Belső-Ferencváros), Bakáts utca 5  \n",
            "5               2. kerület, (Törökvész), Orló utca 19  \n",
            "6                   2. kerület, (Rézmál), Felvinci út  \n",
            "7   9. kerület, (Középső-Ferencváros – Rehabilitác...  \n",
            "8   7. kerület, (Külső-Erzsébetváros – Ligetváros)...  \n",
            "9                 12. kerület, (Németvölgy), Győri út  \n",
            "10       11. kerület, (Kőérberek – Tóváros), Kánai út  \n",
            "11  7. kerület, (Középső-Erzsébetváros), Barcsay utca  \n",
            "12        6. kerület, (Külső-Terézváros), Eötvös utca  \n",
            "13       5. kerület, (Lipótváros), Október 6. utca 21  \n",
            "14  7. kerület, (Belső-Erzsébetváros), Wesselényi ...  \n",
            "15  9. kerület, (Középső-Ferencváros – Malmok), Dr...  \n",
            "16      6. kerület, (Külső-Terézváros), Izabella utca  \n",
            "17  9. kerület, (Középső-Ferencváros – Rehabilitác...  \n",
            "18         2. kerület, (Rózsadomb), Rómer Flóris utca  \n",
            "19        6. kerület, (Külső-Terézváros), Eötvös utca  \n"
          ]
        }
      ]
    },
    {
      "cell_type": "code",
      "source": [],
      "metadata": {
        "colab": {
          "base_uri": "https://localhost:8080/"
        },
        "id": "bZzpAp_QNeGZ",
        "outputId": "60d5870f-fbdd-4dce-edc9-7f7f0a87554f"
      },
      "execution_count": 11,
      "outputs": [
        {
          "output_type": "stream",
          "name": "stdout",
          "text": [
            "\u001b[?25l   \u001b[90m━━━━━━━━━━━━━━━━━━━━━━━━━━━━━━━━━━━━━━━━\u001b[0m \u001b[32m0.0/10.1 MB\u001b[0m \u001b[31m?\u001b[0m eta \u001b[36m-:--:--\u001b[0m\r\u001b[2K   \u001b[91m━━━━━━━━━━━\u001b[0m\u001b[90m╺\u001b[0m\u001b[90m━━━━━━━━━━━━━━━━━━━━━━━━━━━━\u001b[0m \u001b[32m2.8/10.1 MB\u001b[0m \u001b[31m83.1 MB/s\u001b[0m eta \u001b[36m0:00:01\u001b[0m\r\u001b[2K   \u001b[91m━━━━━━━━━━━━━━━━━━━━━━━━━━━━━━━━━━━━━━━\u001b[0m\u001b[91m╸\u001b[0m \u001b[32m10.1/10.1 MB\u001b[0m \u001b[31m146.8 MB/s\u001b[0m eta \u001b[36m0:00:01\u001b[0m\r\u001b[2K   \u001b[91m━━━━━━━━━━━━━━━━━━━━━━━━━━━━━━━━━━━━━━━\u001b[0m\u001b[91m╸\u001b[0m \u001b[32m10.1/10.1 MB\u001b[0m \u001b[31m146.8 MB/s\u001b[0m eta \u001b[36m0:00:01\u001b[0m\r\u001b[2K   \u001b[90m━━━━━━━━━━━━━━━━━━━━━━━━━━━━━━━━━━━━━━━━\u001b[0m \u001b[32m10.1/10.1 MB\u001b[0m \u001b[31m91.4 MB/s\u001b[0m eta \u001b[36m0:00:00\u001b[0m\n",
            "\u001b[?25h\u001b[?25l   \u001b[90m━━━━━━━━━━━━━━━━━━━━━━━━━━━━━━━━━━━━━━━━\u001b[0m \u001b[32m0.0/6.9 MB\u001b[0m \u001b[31m?\u001b[0m eta \u001b[36m-:--:--\u001b[0m\r\u001b[2K   \u001b[91m━━━━━━━━━━━━━━━━━━━━━━━━━━━━━━━━━━━━━━━\u001b[0m\u001b[91m╸\u001b[0m \u001b[32m6.9/6.9 MB\u001b[0m \u001b[31m233.4 MB/s\u001b[0m eta \u001b[36m0:00:01\u001b[0m\r\u001b[2K   \u001b[90m━━━━━━━━━━━━━━━━━━━━━━━━━━━━━━━━━━━━━━━━\u001b[0m \u001b[32m6.9/6.9 MB\u001b[0m \u001b[31m106.9 MB/s\u001b[0m eta \u001b[36m0:00:00\u001b[0m\n",
            "\u001b[?25h"
          ]
        }
      ]
    },
    {
      "cell_type": "markdown",
      "source": [
        "\n",
        "\n",
        "### Getting full data and export it\n"
      ],
      "metadata": {
        "id": "EKlW4ljCfIOX"
      }
    },
    {
      "cell_type": "code",
      "source": [],
      "metadata": {
        "colab": {
          "base_uri": "https://localhost:8080/"
        },
        "id": "e9rApHdeQHxy",
        "outputId": "e52faca5-238c-47c6-f06b-bd66b52672f3"
      },
      "execution_count": 12,
      "outputs": [
        {
          "output_type": "stream",
          "name": "stdout",
          "text": [
            "34.91.84.138\n"
          ]
        }
      ]
    },
    {
      "cell_type": "code",
      "source": [],
      "metadata": {
        "id": "ta5wureAaB-6"
      },
      "execution_count": null,
      "outputs": []
    },
    {
      "cell_type": "markdown",
      "source": [],
      "metadata": {
        "id": "qSXwQRYofSj_"
      }
    }
  ]
}